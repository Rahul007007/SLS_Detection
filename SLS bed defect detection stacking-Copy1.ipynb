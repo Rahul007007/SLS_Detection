{
 "cells": [
  {
   "cell_type": "code",
   "execution_count": 1,
   "id": "35aee188",
   "metadata": {},
   "outputs": [],
   "source": [
    "import pandas as pd\n",
    "import numpy as np\n",
    "import matplotlib.pyplot as plt\n",
    "import tensorflow as tf\n",
    "from tensorflow import keras\n",
    "from keras import *\n",
    "from keras.layers import *\n",
    "from keras.applications import *\n",
    "from keras.callbacks import *\n",
    "from sklearn.metrics import *\n",
    "import cv2\n",
    "import math\n",
    "from keras.preprocessing.image import ImageDataGenerator\n",
    "from sklearn.model_selection import train_test_split\n",
    "import keras_tuner as kt\n",
    "import tensorflow_addons as tfa\n",
    "\n",
    "import Data_Pipeline\n",
    "import FineTunedmodels_SLS"
   ]
  },
  {
   "cell_type": "code",
   "execution_count": 2,
   "id": "9ab15487",
   "metadata": {},
   "outputs": [],
   "source": [
    "# Make sure we don't get any GPU errors\n",
    "physical_devices = tf.config.list_physical_devices(\"GPU\")\n",
    "tf.config.experimental.set_memory_growth(physical_devices[0], True)"
   ]
  },
  {
   "cell_type": "markdown",
   "id": "e3a7f7e6",
   "metadata": {},
   "source": [
    "# Without Data Augmentation"
   ]
  },
  {
   "cell_type": "code",
   "execution_count": 5,
   "id": "ec7a346a",
   "metadata": {},
   "outputs": [
    {
     "name": "stdout",
     "output_type": "stream",
     "text": [
      "Found 2000 files belonging to 2 classes.\n",
      "Found 1000 files belonging to 2 classes.\n",
      "Found 998 files belonging to 2 classes.\n"
     ]
    }
   ],
   "source": [
    "batch_size =32\n",
    "## train_ds and validation_ds are numpy arrays of the images\n",
    "train_ds = tf.keras.preprocessing.image_dataset_from_directory(directory='SLS bed images/data_balanced/train', \n",
    "                                                               labels = 'inferred', \n",
    "                                                               label_mode = 'int', \n",
    "                                                               batch_size=32,\n",
    "                                                               image_size=(180, 180),\n",
    "                                                              seed=10)\n",
    "\n",
    "validation_ds = tf.keras.preprocessing.image_dataset_from_directory(directory='SLS bed images/data_balanced/validation', \n",
    "                                                               labels = 'inferred', \n",
    "                                                               label_mode = 'int', \n",
    "                                                               batch_size=32,\n",
    "                                                               image_size=(180, 180),\n",
    "                                                                   seed=10)\n",
    "\n",
    "test_ds = tf.keras.preprocessing.image_dataset_from_directory(directory='SLS bed images/data_balanced/test',\n",
    "                                                               label_mode = 'int', \n",
    "                                                               batch_size=32,\n",
    "                                                              shuffle=False,\n",
    "                                                               image_size=(180, 180),\n",
    "                                                             seed=10)"
   ]
  },
  {
   "cell_type": "code",
   "execution_count": 6,
   "id": "9ed57970",
   "metadata": {},
   "outputs": [
    {
     "data": {
      "text/plain": [
       "\"def process(image,label):\\n    image = tfa.image.median_filter2d(image=image, filter_shape=3, padding='CONSTANT', constant_values=0)\\n    return image,label\\n\\ntrain_ds = train_ds.map(process)\\nvalidation_ds = validation_ds.map(process)\\ntest_ds = test_ds.map(process)\""
      ]
     },
     "execution_count": 6,
     "metadata": {},
     "output_type": "execute_result"
    }
   ],
   "source": [
    "\"\"\"def process(image,label):\n",
    "    image = tfa.image.median_filter2d(image=image, filter_shape=3, padding='CONSTANT', constant_values=0)\n",
    "    return image,label\n",
    "\n",
    "train_ds = train_ds.map(process)\n",
    "validation_ds = validation_ds.map(process)\n",
    "test_ds = test_ds.map(process)\"\"\""
   ]
  },
  {
   "cell_type": "code",
   "execution_count": 7,
   "id": "344af817",
   "metadata": {},
   "outputs": [],
   "source": [
    "test_label = np.concatenate([y for x, y in test_ds], axis=0)"
   ]
  },
  {
   "cell_type": "code",
   "execution_count": 8,
   "id": "9a756e29",
   "metadata": {},
   "outputs": [
    {
     "data": {
      "text/plain": [
       "\"train_ds,tval_ds = tf.keras.preprocessing.image_dataset_from_directory(directory='SLS bed images/data_balanced/train', \\n                                                               labels = 'inferred', \\n                                                               label_mode = 'int', \\n                                                               batch_size=32, \\n                                                               image_size=(180, 180),\\n                                                               seed=42,\\n                                                              validation_split=0.1,subset='both')\""
      ]
     },
     "execution_count": 8,
     "metadata": {},
     "output_type": "execute_result"
    }
   ],
   "source": [
    "\"\"\"train_ds,tval_ds = tf.keras.preprocessing.image_dataset_from_directory(directory='SLS bed images/data_balanced/train', \n",
    "                                                               labels = 'inferred', \n",
    "                                                               label_mode = 'int', \n",
    "                                                               batch_size=32, \n",
    "                                                               image_size=(180, 180),\n",
    "                                                               seed=42,\n",
    "                                                              validation_split=0.1,subset='both')\"\"\""
   ]
  },
  {
   "cell_type": "markdown",
   "id": "717adbeb",
   "metadata": {},
   "source": [
    "## Using Transfer Learning Models"
   ]
  },
  {
   "cell_type": "code",
   "execution_count": 9,
   "id": "e0d1bb96",
   "metadata": {},
   "outputs": [],
   "source": [
    "def build_model(hp):\n",
    "    \n",
    "    model = Sequential()\n",
    "    \n",
    "    model.add(conv_base)\n",
    "    model.add(Flatten())\n",
    "    counter = 0\n",
    "    \n",
    "    for i in range(hp.Int('num_layers', min_value = 1, max_value = 10)):\n",
    "        \n",
    "        if(counter ==0):\n",
    "            model.add(Dense(hp.Int('units' + str(i), min_value = 8, max_value = 1000, step = 8),activation = hp.Choice('activation' + str(i), ['relu', 'tanh', 'sigmoid'])))\n",
    "            model.add(BatchNormalization())\n",
    "            model.add(Dropout(hp.Choice('dropout' + str(i), values = [0.1, 0.2, 0.3, 0.4, 0.5, 0.6, 0.7, 0.8, 0.9])))\n",
    "        else:\n",
    "            model.add(Dense(hp.Int('units' + str(i), min_value = 8, max_value = 1000, step = 8),activation = hp.Choice('activation' + str(i), ['relu', 'tanh', 'sigmoid'])))\n",
    "            model.add(BatchNormalization())\n",
    "            model.add(Dropout(hp.Choice('dropout' + str(i), values = [0.1, 0.2, 0.3, 0.4, 0.5, 0.6, 0.7, 0.8, 0.9])))\n",
    "            \n",
    "            counter+=1\n",
    "    \n",
    "    model.add(Dense(1,'sigmoid'))\n",
    "    \n",
    "    model.compile(optimizer=keras.optimizers.Adam(learning_rate=1e-3,decay=0.2), loss = 'binary_crossentropy', metrics = ['accuracy'])\n",
    "            \n",
    "    return model"
   ]
  },
  {
   "cell_type": "code",
   "execution_count": 10,
   "id": "51782166",
   "metadata": {},
   "outputs": [],
   "source": [
    "metrics = []\n",
    "model_names =[]\n",
    "def train_model():\n",
    "    tuner = kt.RandomSearch(build_model, objective='val_accuracy', max_trials=5, directory ='SLS Main Logs', project_name = f'WithoutDataAug{conv_base.name}')\n",
    "\n",
    "    tuner.search(train_ds, epochs = 5, validation_data = validation_ds)\n",
    "\n",
    "    ## To get the best hyperparameters after hyperparamater tuning\n",
    "    print(tuner.get_best_hyperparameters()[0].values)\n",
    "\n",
    "    ## To get the best model after hyperparameter tuning\n",
    "    model = tuner.get_best_models(num_models=1)[0]\n",
    "\n",
    "    print(model.summary())\n",
    "\n",
    "    from livelossplot.inputs.keras import PlotLossesCallback\n",
    "\n",
    "    plot_loss_1 = PlotLossesCallback()\n",
    "\n",
    "    # ModelCheckpoint callback - save best weights\n",
    "    tl_checkpoint_1 = ModelCheckpoint(filepath=f'SLS Main Logs/WithoutDataAug{conv_base.name}/{conv_base.name}_weights.best.hdf5',\n",
    "                                      save_best_only=True,\n",
    "                                      verbose=1)\n",
    "\n",
    "    # EarlyStopping\n",
    "    early_stop = EarlyStopping(monitor='val_loss',\n",
    "                               patience=20,\n",
    "                               restore_best_weights=True,\n",
    "                               mode='min')\n",
    "\n",
    "    hist = model.fit(train_ds,\n",
    "                     initial_epoch=6,\n",
    "                        epochs=30,\n",
    "                        batch_size = batch_size,\n",
    "                        validation_data=validation_ds,\n",
    "                        callbacks=[tl_checkpoint_1, early_stop, plot_loss_1],)\n",
    "\n",
    "    model.save(f'SLS Main Logs/WithoutDataAug{conv_base.name}/{conv_base.name}.h5') # Save the entire model along with the optimizer state, etc.\n",
    "\n",
    "    # Generate predictions\n",
    "    #model2 = tf.keras.models.load_model('SLS Main Logs/model.h5')\n",
    "    #model2.load_weights('SLS Main Logs/model_weights.best.hdf5') # initialize the best trained weights\n",
    "\n",
    "    eval_result = model.evaluate(validation_ds)\n",
    "    metrics.append(eval_result)\n",
    "    print(\"[test loss, test accuracy]:\", eval_result)\n",
    "\n",
    "    \"\"\"y_pred=model.predict(validation_ds)\n",
    "    y_pred = y_pred.flatten()\n",
    "    y_pred[y_pred<0.5] = 0\n",
    "    y_pred[y_pred>0.5] = 1\n",
    "    df[f'{conv_base.name}']=y_pred\n",
    "    \n",
    "    y_pred=model.predict(test_ds)\n",
    "    y_pred = y_pred.flatten()\n",
    "    y_pred[y_pred<0.5] = 0\n",
    "    y_pred[y_pred>0.5] = 1\n",
    "    test_df[f'{conv_base.name}']=y_pred\"\"\""
   ]
  },
  {
   "cell_type": "code",
   "execution_count": 7,
   "id": "99906722",
   "metadata": {},
   "outputs": [],
   "source": [
    "models = [FineTunedmodels_SLS.FineTuned_VGG19((180,180,3)), FineTunedmodels_SLS.FineTuned_Inception((180,180,3)), FineTunedmodels_SLS.FineTuned_ResNet50((180,180,3))]"
   ]
  },
  {
   "cell_type": "code",
   "execution_count": 12,
   "id": "16c7f1e4",
   "metadata": {
    "scrolled": true
   },
   "outputs": [
    {
     "data": {
      "image/png": "[encoded data removed]",
      "text/plain": [
       "<Figure size 1200x800 with 2 Axes>"
      ]
     },
     "metadata": {},
     "output_type": "display_data"
    },
    {
     "name": "stdout",
     "output_type": "stream",
     "text": [
      "accuracy\n",
      "\ttraining         \t (min:    0.878, max:    0.967, cur:    0.966)\n",
      "\tvalidation       \t (min:    0.786, max:    0.809, cur:    0.802)\n",
      "Loss\n",
      "\ttraining         \t (min:    0.109, max:    0.291, cur:    0.115)\n",
      "\tvalidation       \t (min:    0.432, max:    0.475, cur:    0.470)\n",
      "63/63 [==============================] - 6s 93ms/step - loss: 0.1149 - accuracy: 0.9660 - val_loss: 0.4702 - val_accuracy: 0.8020\n",
      "32/32 [==============================] - 2s 53ms/step - loss: 0.4316 - accuracy: 0.7920\n",
      "[test loss, test accuracy]: [0.4315849840641022, 0.7919999957084656]\n"
     ]
    }
   ],
   "source": [
    "for i in models:\n",
    "    conv_base = i\n",
    "    model_names.append(conv_base.name)\n",
    "    train_model()\n",
    "\n",
    "#df['Original Label'] =validation_label"
   ]
  },
  {
   "cell_type": "code",
   "execution_count": 10,
   "id": "e7b2da32",
   "metadata": {},
   "outputs": [],
   "source": [
    "def train_model2():\n",
    "    model = Sequential()\n",
    "\n",
    "    model.add(conv_base)\n",
    "    model.add(Flatten())\n",
    "\n",
    "    model.add(Dense(1000,activation = 'relu'))\n",
    "    model.add(BatchNormalization())\n",
    "    model.add(Dropout(0.25))\n",
    "\n",
    "    model.add(Dense(1,'sigmoid'))\n",
    "\n",
    "    model.compile(optimizer=keras.optimizers.Adam(learning_rate=1e-3,decay=0.2), loss = 'binary_crossentropy', metrics = ['accuracy'])\n",
    "\n",
    "    from livelossplot.inputs.keras import PlotLossesCallback\n",
    "\n",
    "    plot_loss_1 = PlotLossesCallback()\n",
    "\n",
    "    # ModelCheckpoint callback - save best weights\n",
    "    tl_checkpoint_1 = ModelCheckpoint(filepath=f'SLS Other Logs/WithoutDataAug{conv_base.name}/{conv_base.name}_weights.best.hdf5',\n",
    "                                      save_best_only=True,\n",
    "                                      verbose=1)\n",
    "\n",
    "    # EarlyStopping\n",
    "    early_stop = EarlyStopping(monitor='val_loss',\n",
    "                               patience=20,\n",
    "                               restore_best_weights=True,\n",
    "                               mode='min')\n",
    "\n",
    "    hist = model.fit(train_ds,\n",
    "                        epochs=30,\n",
    "                        batch_size = batch_size,\n",
    "                        validation_data=validation_ds,\n",
    "                        callbacks=[tl_checkpoint_1, early_stop, plot_loss_1],)\n",
    "    \n",
    "    model.save(f'SLS Other Logs/WithoutDataAug{conv_base.name}/{conv_base.name}.h5') # Save the entire model along with the optimizer state, etc.\n",
    "    eval_result = model.evaluate(validation_ds)\n",
    "    metrics.append(eval_result)"
   ]
  },
  {
   "cell_type": "code",
   "execution_count": 11,
   "id": "93ec0e6b",
   "metadata": {},
   "outputs": [
    {
     "data": {
      "image/png": "[encoded data removed]",
      "text/plain": [
       "<Figure size 1200x800 with 2 Axes>"
      ]
     },
     "metadata": {},
     "output_type": "display_data"
    },
    {
     "name": "stdout",
     "output_type": "stream",
     "text": [
      "accuracy\n",
      "\ttraining         \t (min:    0.799, max:    0.998, cur:    0.998)\n",
      "\tvalidation       \t (min:    0.812, max:    0.862, cur:    0.861)\n",
      "Loss\n",
      "\ttraining         \t (min:    0.034, max:    0.933, cur:    0.034)\n",
      "\tvalidation       \t (min:    0.388, max:    0.497, cur:    0.393)\n",
      "63/63 [==============================] - 6s 92ms/step - loss: 0.0343 - accuracy: 0.9975 - val_loss: 0.3930 - val_accuracy: 0.8610\n",
      "32/32 [==============================] - 2s 52ms/step - loss: 0.3930 - accuracy: 0.8610\n"
     ]
    }
   ],
   "source": [
    "metrics = []\n",
    "model_names =[]\n",
    "for i in models:\n",
    "    conv_base = i\n",
    "    model_names.append(conv_base.name)\n",
    "    train_model2()"
   ]
  },
  {
   "cell_type": "code",
   "execution_count": 11,
   "id": "95093752",
   "metadata": {},
   "outputs": [
    {
     "name": "stdout",
     "output_type": "stream",
     "text": [
      "Found 1000 files belonging to 2 classes.\n"
     ]
    }
   ],
   "source": [
    "import time\n",
    "validation_ds = tf.keras.preprocessing.image_dataset_from_directory(directory='SLS bed images/data_balanced/validation', \n",
    "                                                               labels = 'inferred', \n",
    "                                                               label_mode = 'int', \n",
    "                                                               batch_size=32,\n",
    "                                                                shuffle=False,\n",
    "                                                               image_size=(180, 180),\n",
    "                                                                   seed=10)"
   ]
  },
  {
   "cell_type": "code",
   "execution_count": 12,
   "id": "670296e8",
   "metadata": {},
   "outputs": [],
   "source": [
    "df = pd.DataFrame()\n",
    "test_df=pd.DataFrame()"
   ]
  },
  {
   "cell_type": "code",
   "execution_count": 13,
   "id": "5a77deb0",
   "metadata": {},
   "outputs": [
    {
     "name": "stdout",
     "output_type": "stream",
     "text": [
      "WARNING:tensorflow:Error in loading the saved optimizer state. As a result, your model is starting with a freshly initialized optimizer.\n",
      "32/32 [==============================] - 3s 82ms/step\n",
      "32/32 [==============================] - 3s 82ms/step\n",
      "WARNING:tensorflow:Error in loading the saved optimizer state. As a result, your model is starting with a freshly initialized optimizer.\n",
      "32/32 [==============================] - 2s 39ms/step\n",
      "32/32 [==============================] - 1s 39ms/step\n",
      "WARNING:tensorflow:Error in loading the saved optimizer state. As a result, your model is starting with a freshly initialized optimizer.\n",
      "32/32 [==============================] - 2s 50ms/step\n",
      "32/32 [==============================] - 2s 51ms/step\n"
     ]
    }
   ],
   "source": [
    "model_names=['vgg19','inception_v3','resnet50']\n",
    "\n",
    "validation_label = np.concatenate([y for x, y in validation_ds], axis=0)\n",
    "for i in model_names:\n",
    "    time.sleep(2.5)\n",
    "    model = tf.keras.models.load_model(f'SLS Other Logs/WithoutDataAug{i}/{i}.h5')\n",
    "    time.sleep(2.5)\n",
    "    y_pred=model.predict(validation_ds)\n",
    "    y_pred = y_pred.flatten()\n",
    "    y_pred[y_pred<0.5] = 0\n",
    "    y_pred[y_pred>0.5] = 1\n",
    "    df[f'{i}']=y_pred\n",
    "    time.sleep(2.5)\n",
    "\n",
    "    y_pred=model.predict(test_ds)\n",
    "    y_pred = y_pred.flatten()\n",
    "    y_pred[y_pred<0.5] = 0\n",
    "    y_pred[y_pred>0.5] = 1\n",
    "    test_df[f'{i}']=y_pred\n",
    "    time.sleep(2.5)\n",
    "\n",
    "df['Original Label'] =validation_label"
   ]
  },
  {
   "cell_type": "code",
   "execution_count": 26,
   "id": "10150479",
   "metadata": {},
   "outputs": [
    {
     "data": {
      "text/html": [
       "<div>\n",
       "<style scoped>\n",
       "    .dataframe tbody tr th:only-of-type {\n",
       "        vertical-align: middle;\n",
       "    }\n",
       "\n",
       "    .dataframe tbody tr th {\n",
       "        vertical-align: top;\n",
       "    }\n",
       "\n",
       "    .dataframe thead th {\n",
       "        text-align: right;\n",
       "    }\n",
       "</style>\n",
       "<table border=\"1\" class=\"dataframe\">\n",
       "  <thead>\n",
       "    <tr style=\"text-align: right;\">\n",
       "      <th></th>\n",
       "      <th>vgg19</th>\n",
       "      <th>resnet50</th>\n",
       "    </tr>\n",
       "  </thead>\n",
       "  <tbody>\n",
       "    <tr>\n",
       "      <th>0</th>\n",
       "      <td>0.0</td>\n",
       "      <td>0.0</td>\n",
       "    </tr>\n",
       "    <tr>\n",
       "      <th>1</th>\n",
       "      <td>0.0</td>\n",
       "      <td>0.0</td>\n",
       "    </tr>\n",
       "    <tr>\n",
       "      <th>2</th>\n",
       "      <td>0.0</td>\n",
       "      <td>0.0</td>\n",
       "    </tr>\n",
       "    <tr>\n",
       "      <th>3</th>\n",
       "      <td>0.0</td>\n",
       "      <td>0.0</td>\n",
       "    </tr>\n",
       "    <tr>\n",
       "      <th>4</th>\n",
       "      <td>0.0</td>\n",
       "      <td>0.0</td>\n",
       "    </tr>\n",
       "    <tr>\n",
       "      <th>...</th>\n",
       "      <td>...</td>\n",
       "      <td>...</td>\n",
       "    </tr>\n",
       "    <tr>\n",
       "      <th>993</th>\n",
       "      <td>1.0</td>\n",
       "      <td>1.0</td>\n",
       "    </tr>\n",
       "    <tr>\n",
       "      <th>994</th>\n",
       "      <td>1.0</td>\n",
       "      <td>1.0</td>\n",
       "    </tr>\n",
       "    <tr>\n",
       "      <th>995</th>\n",
       "      <td>1.0</td>\n",
       "      <td>1.0</td>\n",
       "    </tr>\n",
       "    <tr>\n",
       "      <th>996</th>\n",
       "      <td>1.0</td>\n",
       "      <td>1.0</td>\n",
       "    </tr>\n",
       "    <tr>\n",
       "      <th>997</th>\n",
       "      <td>1.0</td>\n",
       "      <td>1.0</td>\n",
       "    </tr>\n",
       "  </tbody>\n",
       "</table>\n",
       "<p>998 rows × 2 columns</p>\n",
       "</div>"
      ],
      "text/plain": [
       "     vgg19  resnet50\n",
       "0      0.0       0.0\n",
       "1      0.0       0.0\n",
       "2      0.0       0.0\n",
       "3      0.0       0.0\n",
       "4      0.0       0.0\n",
       "..     ...       ...\n",
       "993    1.0       1.0\n",
       "994    1.0       1.0\n",
       "995    1.0       1.0\n",
       "996    1.0       1.0\n",
       "997    1.0       1.0\n",
       "\n",
       "[998 rows x 2 columns]"
      ]
     },
     "execution_count": 26,
     "metadata": {},
     "output_type": "execute_result"
    }
   ],
   "source": [
    "test_df.iloc[:,[0,2]]"
   ]
  },
  {
   "cell_type": "code",
   "execution_count": 15,
   "id": "b97dc9b5",
   "metadata": {},
   "outputs": [
    {
     "data": {
      "text/html": [
       "<div>\n",
       "<style scoped>\n",
       "    .dataframe tbody tr th:only-of-type {\n",
       "        vertical-align: middle;\n",
       "    }\n",
       "\n",
       "    .dataframe tbody tr th {\n",
       "        vertical-align: top;\n",
       "    }\n",
       "\n",
       "    .dataframe thead th {\n",
       "        text-align: right;\n",
       "    }\n",
       "</style>\n",
       "<table border=\"1\" class=\"dataframe\">\n",
       "  <thead>\n",
       "    <tr style=\"text-align: right;\">\n",
       "      <th></th>\n",
       "      <th>vgg19</th>\n",
       "      <th>inception_v3</th>\n",
       "      <th>resnet50</th>\n",
       "      <th>Original Label</th>\n",
       "    </tr>\n",
       "  </thead>\n",
       "  <tbody>\n",
       "    <tr>\n",
       "      <th>0</th>\n",
       "      <td>1.0</td>\n",
       "      <td>1.0</td>\n",
       "      <td>1.0</td>\n",
       "      <td>1</td>\n",
       "    </tr>\n",
       "    <tr>\n",
       "      <th>1</th>\n",
       "      <td>1.0</td>\n",
       "      <td>0.0</td>\n",
       "      <td>1.0</td>\n",
       "      <td>1</td>\n",
       "    </tr>\n",
       "    <tr>\n",
       "      <th>2</th>\n",
       "      <td>1.0</td>\n",
       "      <td>1.0</td>\n",
       "      <td>1.0</td>\n",
       "      <td>1</td>\n",
       "    </tr>\n",
       "    <tr>\n",
       "      <th>3</th>\n",
       "      <td>1.0</td>\n",
       "      <td>1.0</td>\n",
       "      <td>1.0</td>\n",
       "      <td>1</td>\n",
       "    </tr>\n",
       "    <tr>\n",
       "      <th>4</th>\n",
       "      <td>0.0</td>\n",
       "      <td>1.0</td>\n",
       "      <td>1.0</td>\n",
       "      <td>0</td>\n",
       "    </tr>\n",
       "    <tr>\n",
       "      <th>...</th>\n",
       "      <td>...</td>\n",
       "      <td>...</td>\n",
       "      <td>...</td>\n",
       "      <td>...</td>\n",
       "    </tr>\n",
       "    <tr>\n",
       "      <th>995</th>\n",
       "      <td>1.0</td>\n",
       "      <td>1.0</td>\n",
       "      <td>1.0</td>\n",
       "      <td>1</td>\n",
       "    </tr>\n",
       "    <tr>\n",
       "      <th>996</th>\n",
       "      <td>1.0</td>\n",
       "      <td>1.0</td>\n",
       "      <td>1.0</td>\n",
       "      <td>1</td>\n",
       "    </tr>\n",
       "    <tr>\n",
       "      <th>997</th>\n",
       "      <td>1.0</td>\n",
       "      <td>0.0</td>\n",
       "      <td>1.0</td>\n",
       "      <td>1</td>\n",
       "    </tr>\n",
       "    <tr>\n",
       "      <th>998</th>\n",
       "      <td>1.0</td>\n",
       "      <td>1.0</td>\n",
       "      <td>1.0</td>\n",
       "      <td>1</td>\n",
       "    </tr>\n",
       "    <tr>\n",
       "      <th>999</th>\n",
       "      <td>1.0</td>\n",
       "      <td>1.0</td>\n",
       "      <td>1.0</td>\n",
       "      <td>1</td>\n",
       "    </tr>\n",
       "  </tbody>\n",
       "</table>\n",
       "<p>1000 rows × 4 columns</p>\n",
       "</div>"
      ],
      "text/plain": [
       "     vgg19  inception_v3  resnet50  Original Label\n",
       "0      1.0           1.0       1.0               1\n",
       "1      1.0           0.0       1.0               1\n",
       "2      1.0           1.0       1.0               1\n",
       "3      1.0           1.0       1.0               1\n",
       "4      0.0           1.0       1.0               0\n",
       "..     ...           ...       ...             ...\n",
       "995    1.0           1.0       1.0               1\n",
       "996    1.0           1.0       1.0               1\n",
       "997    1.0           0.0       1.0               1\n",
       "998    1.0           1.0       1.0               1\n",
       "999    1.0           1.0       1.0               1\n",
       "\n",
       "[1000 rows x 4 columns]"
      ]
     },
     "execution_count": 15,
     "metadata": {},
     "output_type": "execute_result"
    }
   ],
   "source": [
    "df2 = df.sample(frac=1).reset_index(drop=True)\n",
    "df2"
   ]
  },
  {
   "cell_type": "code",
   "execution_count": 24,
   "id": "c75fa654",
   "metadata": {},
   "outputs": [],
   "source": [
    "x, y = df2.iloc[:,[0,2]], df2.iloc[:,-1]"
   ]
  },
  {
   "cell_type": "code",
   "execution_count": 25,
   "id": "492672a2",
   "metadata": {},
   "outputs": [
    {
     "data": {
      "text/html": [
       "<div>\n",
       "<style scoped>\n",
       "    .dataframe tbody tr th:only-of-type {\n",
       "        vertical-align: middle;\n",
       "    }\n",
       "\n",
       "    .dataframe tbody tr th {\n",
       "        vertical-align: top;\n",
       "    }\n",
       "\n",
       "    .dataframe thead th {\n",
       "        text-align: right;\n",
       "    }\n",
       "</style>\n",
       "<table border=\"1\" class=\"dataframe\">\n",
       "  <thead>\n",
       "    <tr style=\"text-align: right;\">\n",
       "      <th></th>\n",
       "      <th>vgg19</th>\n",
       "      <th>resnet50</th>\n",
       "    </tr>\n",
       "  </thead>\n",
       "  <tbody>\n",
       "    <tr>\n",
       "      <th>0</th>\n",
       "      <td>1.0</td>\n",
       "      <td>1.0</td>\n",
       "    </tr>\n",
       "    <tr>\n",
       "      <th>1</th>\n",
       "      <td>1.0</td>\n",
       "      <td>1.0</td>\n",
       "    </tr>\n",
       "    <tr>\n",
       "      <th>2</th>\n",
       "      <td>1.0</td>\n",
       "      <td>1.0</td>\n",
       "    </tr>\n",
       "    <tr>\n",
       "      <th>3</th>\n",
       "      <td>1.0</td>\n",
       "      <td>1.0</td>\n",
       "    </tr>\n",
       "    <tr>\n",
       "      <th>4</th>\n",
       "      <td>0.0</td>\n",
       "      <td>1.0</td>\n",
       "    </tr>\n",
       "    <tr>\n",
       "      <th>...</th>\n",
       "      <td>...</td>\n",
       "      <td>...</td>\n",
       "    </tr>\n",
       "    <tr>\n",
       "      <th>995</th>\n",
       "      <td>1.0</td>\n",
       "      <td>1.0</td>\n",
       "    </tr>\n",
       "    <tr>\n",
       "      <th>996</th>\n",
       "      <td>1.0</td>\n",
       "      <td>1.0</td>\n",
       "    </tr>\n",
       "    <tr>\n",
       "      <th>997</th>\n",
       "      <td>1.0</td>\n",
       "      <td>1.0</td>\n",
       "    </tr>\n",
       "    <tr>\n",
       "      <th>998</th>\n",
       "      <td>1.0</td>\n",
       "      <td>1.0</td>\n",
       "    </tr>\n",
       "    <tr>\n",
       "      <th>999</th>\n",
       "      <td>1.0</td>\n",
       "      <td>1.0</td>\n",
       "    </tr>\n",
       "  </tbody>\n",
       "</table>\n",
       "<p>1000 rows × 2 columns</p>\n",
       "</div>"
      ],
      "text/plain": [
       "     vgg19  resnet50\n",
       "0      1.0       1.0\n",
       "1      1.0       1.0\n",
       "2      1.0       1.0\n",
       "3      1.0       1.0\n",
       "4      0.0       1.0\n",
       "..     ...       ...\n",
       "995    1.0       1.0\n",
       "996    1.0       1.0\n",
       "997    1.0       1.0\n",
       "998    1.0       1.0\n",
       "999    1.0       1.0\n",
       "\n",
       "[1000 rows x 2 columns]"
      ]
     },
     "execution_count": 25,
     "metadata": {},
     "output_type": "execute_result"
    }
   ],
   "source": [
    "x"
   ]
  },
  {
   "cell_type": "code",
   "execution_count": 18,
   "id": "aeeecc23",
   "metadata": {},
   "outputs": [],
   "source": [
    "x_train, x_test, y_train, y_test = train_test_split( x, y, test_size=0.10, random_state=42)"
   ]
  },
  {
   "cell_type": "code",
   "execution_count": 27,
   "id": "ae38f628",
   "metadata": {},
   "outputs": [
    {
     "name": "stdout",
     "output_type": "stream",
     "text": [
      "XGBClassifier(base_score=None, booster=None, callbacks=None,\n",
      "              colsample_bylevel=None, colsample_bynode=None,\n",
      "              colsample_bytree=None, early_stopping_rounds=None,\n",
      "              enable_categorical=False, eval_metric=None, feature_types=None,\n",
      "              gamma=None, gpu_id=None, grow_policy=None, importance_type=None,\n",
      "              interaction_constraints=None, learning_rate=0.1, max_bin=None,\n",
      "              max_cat_threshold=None, max_cat_to_onehot=None,\n",
      "              max_delta_step=None, max_depth=5, max_leaves=None,\n",
      "              min_child_weight=None, missing=nan, monotone_constraints=None,\n",
      "              n_estimators=50, n_jobs=None, num_parallel_tree=None,\n",
      "              predictor=None, random_state=None, ...)\n"
     ]
    }
   ],
   "source": [
    "import xgboost as xgb\n",
    "from sklearn.model_selection import GridSearchCV ## GridSearchCV is used for hyperparameter tuning\n",
    "neigh = xgb.XGBClassifier(max_depth=5,tree_method='gpu_hist')\n",
    "parameters = {'learning_rate': [0.1, 0.2, 0.3],\n",
    "                  'n_estimators': [5, 10, 20,50,100]}\n",
    "clf = GridSearchCV(neigh, parameters,cv=3, scoring='roc_auc',return_train_score='true')\n",
    "clf.fit(x,y)\n",
    "print(clf.best_estimator_)"
   ]
  },
  {
   "cell_type": "code",
   "execution_count": 28,
   "id": "3bb1ea04",
   "metadata": {},
   "outputs": [
    {
     "data": {
      "text/html": [
       "<style>#sk-container-id-2 {color: black;background-color: white;}#sk-container-id-2 pre{padding: 0;}#sk-container-id-2 div.sk-toggleable {background-color: white;}#sk-container-id-2 label.sk-toggleable__label {cursor: pointer;display: block;width: 100%;margin-bottom: 0;padding: 0.3em;box-sizing: border-box;text-align: center;}#sk-container-id-2 label.sk-toggleable__label-arrow:before {content: \"▸\";float: left;margin-right: 0.25em;color: #696969;}#sk-container-id-2 label.sk-toggleable__label-arrow:hover:before {color: black;}#sk-container-id-2 div.sk-estimator:hover label.sk-toggleable__label-arrow:before {color: black;}#sk-container-id-2 div.sk-toggleable__content {max-height: 0;max-width: 0;overflow: hidden;text-align: left;background-color: #f0f8ff;}#sk-container-id-2 div.sk-toggleable__content pre {margin: 0.2em;color: black;border-radius: 0.25em;background-color: #f0f8ff;}#sk-container-id-2 input.sk-toggleable__control:checked~div.sk-toggleable__content {max-height: 200px;max-width: 100%;overflow: auto;}#sk-container-id-2 input.sk-toggleable__control:checked~label.sk-toggleable__label-arrow:before {content: \"▾\";}#sk-container-id-2 div.sk-estimator input.sk-toggleable__control:checked~label.sk-toggleable__label {background-color: #d4ebff;}#sk-container-id-2 div.sk-label input.sk-toggleable__control:checked~label.sk-toggleable__label {background-color: #d4ebff;}#sk-container-id-2 input.sk-hidden--visually {border: 0;clip: rect(1px 1px 1px 1px);clip: rect(1px, 1px, 1px, 1px);height: 1px;margin: -1px;overflow: hidden;padding: 0;position: absolute;width: 1px;}#sk-container-id-2 div.sk-estimator {font-family: monospace;background-color: #f0f8ff;border: 1px dotted black;border-radius: 0.25em;box-sizing: border-box;margin-bottom: 0.5em;}#sk-container-id-2 div.sk-estimator:hover {background-color: #d4ebff;}#sk-container-id-2 div.sk-parallel-item::after {content: \"\";width: 100%;border-bottom: 1px solid gray;flex-grow: 1;}#sk-container-id-2 div.sk-label:hover label.sk-toggleable__label {background-color: #d4ebff;}#sk-container-id-2 div.sk-serial::before {content: \"\";position: absolute;border-left: 1px solid gray;box-sizing: border-box;top: 0;bottom: 0;left: 50%;z-index: 0;}#sk-container-id-2 div.sk-serial {display: flex;flex-direction: column;align-items: center;background-color: white;padding-right: 0.2em;padding-left: 0.2em;position: relative;}#sk-container-id-2 div.sk-item {position: relative;z-index: 1;}#sk-container-id-2 div.sk-parallel {display: flex;align-items: stretch;justify-content: center;background-color: white;position: relative;}#sk-container-id-2 div.sk-item::before, #sk-container-id-2 div.sk-parallel-item::before {content: \"\";position: absolute;border-left: 1px solid gray;box-sizing: border-box;top: 0;bottom: 0;left: 50%;z-index: -1;}#sk-container-id-2 div.sk-parallel-item {display: flex;flex-direction: column;z-index: 1;position: relative;background-color: white;}#sk-container-id-2 div.sk-parallel-item:first-child::after {align-self: flex-end;width: 50%;}#sk-container-id-2 div.sk-parallel-item:last-child::after {align-self: flex-start;width: 50%;}#sk-container-id-2 div.sk-parallel-item:only-child::after {width: 0;}#sk-container-id-2 div.sk-dashed-wrapped {border: 1px dashed gray;margin: 0 0.4em 0.5em 0.4em;box-sizing: border-box;padding-bottom: 0.4em;background-color: white;}#sk-container-id-2 div.sk-label label {font-family: monospace;font-weight: bold;display: inline-block;line-height: 1.2em;}#sk-container-id-2 div.sk-label-container {text-align: center;}#sk-container-id-2 div.sk-container {/* jupyter's `normalize.less` sets `[hidden] { display: none; }` but bootstrap.min.css set `[hidden] { display: none !important; }` so we also need the `!important` here to be able to override the default hidden behavior on the sphinx rendered scikit-learn.org. See: https://github.com/scikit-learn/scikit-learn/issues/21755 */display: inline-block !important;position: relative;}#sk-container-id-2 div.sk-text-repr-fallback {display: none;}</style><div id=\"sk-container-id-2\" class=\"sk-top-container\"><div class=\"sk-text-repr-fallback\"><pre>GridSearchCV(estimator=DecisionTreeClassifier(),\n",
       "             param_grid={&#x27;max_depth&#x27;: [2, 4, 8, 10, None],\n",
       "                         &#x27;min_samples_split&#x27;: [0.25, 0.5, 1.0],\n",
       "                         &#x27;splitter&#x27;: [&#x27;best&#x27;, &#x27;random&#x27;]})</pre><b>In a Jupyter environment, please rerun this cell to show the HTML representation or trust the notebook. <br />On GitHub, the HTML representation is unable to render, please try loading this page with nbviewer.org.</b></div><div class=\"sk-container\" hidden><div class=\"sk-item sk-dashed-wrapped\"><div class=\"sk-label-container\"><div class=\"sk-label sk-toggleable\"><input class=\"sk-toggleable__control sk-hidden--visually\" id=\"sk-estimator-id-4\" type=\"checkbox\" ><label for=\"sk-estimator-id-4\" class=\"sk-toggleable__label sk-toggleable__label-arrow\">GridSearchCV</label><div class=\"sk-toggleable__content\"><pre>GridSearchCV(estimator=DecisionTreeClassifier(),\n",
       "             param_grid={&#x27;max_depth&#x27;: [2, 4, 8, 10, None],\n",
       "                         &#x27;min_samples_split&#x27;: [0.25, 0.5, 1.0],\n",
       "                         &#x27;splitter&#x27;: [&#x27;best&#x27;, &#x27;random&#x27;]})</pre></div></div></div><div class=\"sk-parallel\"><div class=\"sk-parallel-item\"><div class=\"sk-item\"><div class=\"sk-label-container\"><div class=\"sk-label sk-toggleable\"><input class=\"sk-toggleable__control sk-hidden--visually\" id=\"sk-estimator-id-5\" type=\"checkbox\" ><label for=\"sk-estimator-id-5\" class=\"sk-toggleable__label sk-toggleable__label-arrow\">estimator: DecisionTreeClassifier</label><div class=\"sk-toggleable__content\"><pre>DecisionTreeClassifier()</pre></div></div></div><div class=\"sk-serial\"><div class=\"sk-item\"><div class=\"sk-estimator sk-toggleable\"><input class=\"sk-toggleable__control sk-hidden--visually\" id=\"sk-estimator-id-6\" type=\"checkbox\" ><label for=\"sk-estimator-id-6\" class=\"sk-toggleable__label sk-toggleable__label-arrow\">DecisionTreeClassifier</label><div class=\"sk-toggleable__content\"><pre>DecisionTreeClassifier()</pre></div></div></div></div></div></div></div></div></div></div>"
      ],
      "text/plain": [
       "GridSearchCV(estimator=DecisionTreeClassifier(),\n",
       "             param_grid={'max_depth': [2, 4, 8, 10, None],\n",
       "                         'min_samples_split': [0.25, 0.5, 1.0],\n",
       "                         'splitter': ['best', 'random']})"
      ]
     },
     "execution_count": 28,
     "metadata": {},
     "output_type": "execute_result"
    }
   ],
   "source": [
    "from sklearn.model_selection import GridSearchCV ## GridSearchCV is used for hyperparameter tuning\n",
    "from sklearn.tree import DecisionTreeClassifier\n",
    "dtree =  DecisionTreeClassifier()\n",
    "param_grid = {\n",
    "    'max_depth':[2,4,8,10,None],\n",
    "    'min_samples_split':[0.25,0.5,1.0],'splitter':['best','random']\n",
    "}\n",
    "\n",
    "dtree = GridSearchCV(dtree,param_grid)\n",
    "dtree.fit(x,y)"
   ]
  },
  {
   "cell_type": "code",
   "execution_count": 30,
   "id": "8165af8e",
   "metadata": {},
   "outputs": [],
   "source": [
    "import numpy as np\n",
    "from sklearn.linear_model import LogisticRegression\n",
    "from sklearn.naive_bayes import GaussianNB\n",
    "from sklearn.ensemble import RandomForestClassifier, VotingClassifier\n",
    "clf1 = LogisticRegression(multi_class='multinomial', random_state=1)\n",
    "clf2 = RandomForestClassifier(n_estimators=50, random_state=1)\n",
    "clf3 = GaussianNB()\n",
    "\n",
    "eclf2 = VotingClassifier(estimators=[\n",
    "        ('lr', clf1), ('rf', clf2), ('gnb', clf3),('xgb',clf),('dtree',dtree)],\n",
    "        voting='soft')\n",
    "eclf2 = eclf2.fit(x, y)\n",
    "meta_pred=eclf2.predict(test_df.iloc[:,[0,2]])"
   ]
  },
  {
   "cell_type": "code",
   "execution_count": 31,
   "id": "77478417",
   "metadata": {},
   "outputs": [
    {
     "data": {
      "text/plain": [
       "0.935871743486974"
      ]
     },
     "execution_count": 31,
     "metadata": {},
     "output_type": "execute_result"
    }
   ],
   "source": [
    "from sklearn.metrics import accuracy_score\n",
    "\n",
    "accuracy_score(test_label, meta_pred)"
   ]
  },
  {
   "cell_type": "code",
   "execution_count": 32,
   "id": "1b14175b",
   "metadata": {},
   "outputs": [
    {
     "name": "stdout",
     "output_type": "stream",
     "text": [
      "              precision    recall  f1-score   support\n",
      "\n",
      "           0       0.89      0.98      0.93       452\n",
      "           1       0.98      0.90      0.94       546\n",
      "\n",
      "    accuracy                           0.94       998\n",
      "   macro avg       0.94      0.94      0.94       998\n",
      "weighted avg       0.94      0.94      0.94       998\n",
      "\n",
      "[[444   8]\n",
      " [ 56 490]]\n"
     ]
    }
   ],
   "source": [
    "print(classification_report(meta_pred, test_label))\n",
    "print(confusion_matrix(meta_pred, test_label))"
   ]
  },
  {
   "cell_type": "code",
   "execution_count": 25,
   "id": "2820d32b",
   "metadata": {},
   "outputs": [
    {
     "data": {
      "text/plain": [
       "[[0.16919374465942383, 0.9589999914169312],\n",
       " [0.653336226940155, 0.6639999747276306],\n",
       " [0.3930080533027649, 0.8610000014305115]]"
      ]
     },
     "execution_count": 25,
     "metadata": {},
     "output_type": "execute_result"
    }
   ],
   "source": [
    " metrics"
   ]
  },
  {
   "cell_type": "code",
   "execution_count": null,
   "id": "16e83104",
   "metadata": {},
   "outputs": [],
   "source": []
  }
 ],
 "metadata": {
  "hide_input": false,
  "kernelspec": {
   "display_name": "Tensorflow",
   "language": "python",
   "name": "tensorflow"
  },
  "language_info": {
   "codemirror_mode": {
    "name": "ipython",
    "version": 3
   },
   "file_extension": ".py",
   "mimetype": "text/x-python",
   "name": "python",
   "nbconvert_exporter": "python",
   "pygments_lexer": "ipython3",
   "version": "3.10.9"
  },
  "toc": {
   "base_numbering": 1,
   "nav_menu": {},
   "number_sections": true,
   "sideBar": true,
   "skip_h1_title": false,
   "title_cell": "Table of Contents",
   "title_sidebar": "Contents",
   "toc_cell": false,
   "toc_position": {
    "height": "calc(100% - 180px)",
    "left": "10px",
    "top": "150px",
    "width": "341.458px"
   },
   "toc_section_display": true,
   "toc_window_display": false
  }
 },
 "nbformat": 4,
 "nbformat_minor": 5
}
